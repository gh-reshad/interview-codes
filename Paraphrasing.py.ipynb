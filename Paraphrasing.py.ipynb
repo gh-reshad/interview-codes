{
 "cells": [
  {
   "cell_type": "code",
   "execution_count": 2,
   "metadata": {},
   "outputs": [
    {
     "ename": "ModuleNotFoundError",
     "evalue": "No module named 'gensim'",
     "output_type": "error",
     "traceback": [
      "\u001b[0;31m---------------------------------------------------------------------------\u001b[0m",
      "\u001b[0;31mModuleNotFoundError\u001b[0m                       Traceback (most recent call last)",
      "\u001b[0;32m<ipython-input-2-ea84c2581ed1>\u001b[0m in \u001b[0;36m<module>\u001b[0;34m()\u001b[0m\n\u001b[1;32m      1\u001b[0m \u001b[0;32mimport\u001b[0m \u001b[0mnumpy\u001b[0m \u001b[0;32mas\u001b[0m \u001b[0mnp\u001b[0m\u001b[0;34m\u001b[0m\u001b[0m\n\u001b[1;32m      2\u001b[0m \u001b[0;32mimport\u001b[0m \u001b[0mnltk\u001b[0m\u001b[0;34m\u001b[0m\u001b[0m\n\u001b[0;32m----> 3\u001b[0;31m \u001b[0;32mimport\u001b[0m \u001b[0mgensim\u001b[0m\u001b[0;34m\u001b[0m\u001b[0m\n\u001b[0m\u001b[1;32m      4\u001b[0m \u001b[0;32mfrom\u001b[0m \u001b[0mnltk\u001b[0m\u001b[0;34m.\u001b[0m\u001b[0mtokenize\u001b[0m \u001b[0;32mimport\u001b[0m \u001b[0msent_tokenize\u001b[0m\u001b[0;34m,\u001b[0m \u001b[0mword_tokenize\u001b[0m\u001b[0;34m\u001b[0m\u001b[0m\n\u001b[1;32m      5\u001b[0m \u001b[0;32mfrom\u001b[0m \u001b[0mgensim\u001b[0m\u001b[0;34m.\u001b[0m\u001b[0mmodels\u001b[0m \u001b[0;32mimport\u001b[0m \u001b[0mWord2Vec\u001b[0m\u001b[0;34m\u001b[0m\u001b[0m\n",
      "\u001b[0;31mModuleNotFoundError\u001b[0m: No module named 'gensim'"
     ]
    }
   ],
   "source": [
    "import numpy as np\n",
    "import nltk\n",
    "import gensim\n",
    "from nltk.tokenize import sent_tokenize, word_tokenize\n",
    "from gensim.models import Word2Vec\n",
    "from nltk.corpus import stopwords\n",
    "from nltk import download\n",
    "import gensim.models.keyedvectors as word2vec\n",
    "from gensim.models import Word2Vec"
   ]
  },
  {
   "cell_type": "code",
   "execution_count": 12,
   "metadata": {},
   "outputs": [
    {
     "name": "stderr",
     "output_type": "stream",
     "text": [
      "[nltk_data] Downloading package stopwords to\n",
      "[nltk_data]     /home/greshad/nltk_data...\n",
      "[nltk_data]   Package stopwords is already up-to-date!\n",
      "[nltk_data] Downloading package punkt to /home/greshad/nltk_data...\n",
      "[nltk_data]   Package punkt is already up-to-date!\n"
     ]
    }
   ],
   "source": [
    "download('stopwords')\n",
    "download('punkt')\n",
    "stop_words = stopwords.words('english')"
   ]
  },
  {
   "cell_type": "code",
   "execution_count": 13,
   "metadata": {},
   "outputs": [],
   "source": [
    "def preprocess(doc):\n",
    "    #doc = doc.lower() #Lowercase the text\n",
    "    doc = word_tokenize(doc) #split into words\n",
    "    doc = [w for w in doc if not w in stop_words] #Remove stop words\n",
    "    doc = [w for w in doc if w.isalpha()] # Remove punctuation and numbers"
   ]
  },
  {
   "cell_type": "code",
   "execution_count": 29,
   "metadata": {},
   "outputs": [],
   "source": [
    "doc = ['Assessment of current business conditions improved substantially, the Conference Board said, jumping to 55 from 40 in the first quarter.',\n",
    "      'Feelings about current business conditions improved substantially from the first quarter, jumping from 40 to 55.']\n"
   ]
  },
  {
   "cell_type": "code",
   "execution_count": 6,
   "metadata": {},
   "outputs": [],
   "source": [
    "model = word2vec.KeyedVectors.load_word2vec_format('/home/greshad/Downloads/GoogleNews-vectors-negative300.bin', binary = True)"
   ]
  },
  {
   "cell_type": "code",
   "execution_count": 30,
   "metadata": {},
   "outputs": [],
   "source": [
    "data = []\n",
    "for i in range(len(doc)):\n",
    "    data.append(doc[i].split(' '))"
   ]
  },
  {
   "cell_type": "code",
   "execution_count": 16,
   "metadata": {},
   "outputs": [],
   "source": [
    "distance = model.wmdistance(data[0], data[1])"
   ]
  },
  {
   "cell_type": "code",
   "execution_count": 67,
   "metadata": {},
   "outputs": [
    {
     "data": {
      "text/plain": [
       "1.1956781995869668"
      ]
     },
     "execution_count": 67,
     "metadata": {},
     "output_type": "execute_result"
    }
   ],
   "source": [
    "distance"
   ]
  },
  {
   "cell_type": "code",
   "execution_count": 17,
   "metadata": {},
   "outputs": [
    {
     "name": "stdout",
     "output_type": "stream",
     "text": [
      "Assessment Feelings similarity: 1\n",
      "of about similarity: 1\n",
      "current current similarity: 0\n",
      "business business similarity: 0\n",
      "conditions conditions similarity: 0\n",
      "improved improved similarity: 0\n",
      "substantially, substantially similarity: 0\n",
      "the from similarity: 2\n",
      "Conference the similarity: 1\n",
      "Board first similarity: 2\n",
      "said, quarter, similarity: 2\n",
      "jumping jumping similarity: 0\n",
      "to from similarity: 1\n",
      "55 40 similarity: 1\n",
      "from to similarity: 1\n",
      "40 55. similarity: 1\n"
     ]
    },
    {
     "ename": "IndexError",
     "evalue": "list index out of range",
     "output_type": "error",
     "traceback": [
      "\u001b[0;31m---------------------------------------------------------------------------\u001b[0m",
      "\u001b[0;31mIndexError\u001b[0m                                Traceback (most recent call last)",
      "\u001b[0;32m<ipython-input-17-1031e454560f>\u001b[0m in \u001b[0;36m<module>\u001b[0;34m\u001b[0m\n\u001b[1;32m      1\u001b[0m \u001b[0;32mfor\u001b[0m \u001b[0mi\u001b[0m \u001b[0;32min\u001b[0m \u001b[0mrange\u001b[0m\u001b[0;34m(\u001b[0m\u001b[0mlen\u001b[0m\u001b[0;34m(\u001b[0m\u001b[0mdata\u001b[0m\u001b[0;34m)\u001b[0m\u001b[0;34m)\u001b[0m\u001b[0;34m:\u001b[0m\u001b[0;34m\u001b[0m\u001b[0m\n\u001b[1;32m      2\u001b[0m     \u001b[0;32mfor\u001b[0m \u001b[0mj\u001b[0m \u001b[0;32min\u001b[0m \u001b[0mrange\u001b[0m\u001b[0;34m(\u001b[0m\u001b[0mlen\u001b[0m\u001b[0;34m(\u001b[0m\u001b[0mdata\u001b[0m\u001b[0;34m[\u001b[0m\u001b[0mi\u001b[0m\u001b[0;34m]\u001b[0m\u001b[0;34m)\u001b[0m\u001b[0;34m)\u001b[0m\u001b[0;34m:\u001b[0m\u001b[0;34m\u001b[0m\u001b[0m\n\u001b[0;32m----> 3\u001b[0;31m         \u001b[0mdist\u001b[0m \u001b[0;34m=\u001b[0m \u001b[0mmodel\u001b[0m\u001b[0;34m.\u001b[0m\u001b[0mwmdistance\u001b[0m\u001b[0;34m(\u001b[0m\u001b[0mdata\u001b[0m\u001b[0;34m[\u001b[0m\u001b[0mi\u001b[0m\u001b[0;34m]\u001b[0m\u001b[0;34m[\u001b[0m\u001b[0mj\u001b[0m\u001b[0;34m]\u001b[0m\u001b[0;34m,\u001b[0m \u001b[0mdata\u001b[0m\u001b[0;34m[\u001b[0m\u001b[0mi\u001b[0m\u001b[0;34m+\u001b[0m\u001b[0;36m1\u001b[0m\u001b[0;34m]\u001b[0m\u001b[0;34m[\u001b[0m\u001b[0mj\u001b[0m\u001b[0;34m]\u001b[0m\u001b[0;34m)\u001b[0m\u001b[0;34m\u001b[0m\u001b[0m\n\u001b[0m\u001b[1;32m      4\u001b[0m         \u001b[0mprint\u001b[0m\u001b[0;34m(\u001b[0m\u001b[0mdata\u001b[0m\u001b[0;34m[\u001b[0m\u001b[0mi\u001b[0m\u001b[0;34m]\u001b[0m\u001b[0;34m[\u001b[0m\u001b[0mj\u001b[0m\u001b[0;34m]\u001b[0m\u001b[0;34m,\u001b[0m \u001b[0mdata\u001b[0m\u001b[0;34m[\u001b[0m\u001b[0mi\u001b[0m\u001b[0;34m+\u001b[0m\u001b[0;36m1\u001b[0m\u001b[0;34m]\u001b[0m\u001b[0;34m[\u001b[0m\u001b[0mj\u001b[0m\u001b[0;34m]\u001b[0m\u001b[0;34m,\u001b[0m \u001b[0;34m'similarity: %i'\u001b[0m\u001b[0;34m%\u001b[0m\u001b[0mdist\u001b[0m\u001b[0;34m)\u001b[0m\u001b[0;34m\u001b[0m\u001b[0m\n",
      "\u001b[0;31mIndexError\u001b[0m: list index out of range"
     ]
    }
   ],
   "source": [
    "for i in range(len(data)):\n",
    "    for j in range(len(data[i])):\n",
    "        dist = model.wmdistance(data[i][j], data[i+1][j])\n",
    "        print(data[i][j], data[i+1][j], 'similarity: %i'%dist)\n"
   ]
  },
  {
   "cell_type": "code",
   "execution_count": 35,
   "metadata": {},
   "outputs": [],
   "source": [
    "model = Word2Vec(data, min_count = 1, size = 50, workers = 3, sg = 1)"
   ]
  },
  {
   "cell_type": "code",
   "execution_count": 36,
   "metadata": {},
   "outputs": [
    {
     "name": "stdout",
     "output_type": "stream",
     "text": [
      "Assessment 2 top similar words: [('Conference', 0.3154522180557251), ('in', 0.20133964717388153)] \n",
      "\n",
      "of 2 top similar words: [('said,', 0.22281785309314728), ('Conference', 0.17683321237564087)] \n",
      "\n",
      "current 2 top similar words: [('40', 0.22005410492420197), ('quarter.', 0.19821569323539734)] \n",
      "\n",
      "business 2 top similar words: [('Conference', 0.30111441016197205), ('conditions', 0.14554187655448914)] \n",
      "\n",
      "conditions 2 top similar words: [('quarter.', 0.15218167006969452), ('first', 0.14766255021095276)] \n",
      "\n",
      "improved 2 top similar words: [('to', 0.3555335998535156), ('Board', 0.3534047305583954)] \n",
      "\n",
      "substantially, 2 top similar words: [('Assessment', 0.17009244859218597), ('about', 0.16359136998653412)] \n",
      "\n",
      "the 2 top similar words: [('substantially', 0.13953262567520142), ('substantially,', 0.12233975529670715)] \n",
      "\n",
      "Conference 2 top similar words: [('Assessment', 0.3154522180557251), ('business', 0.30111443996429443)] \n",
      "\n",
      "Board 2 top similar words: [('improved', 0.3534047305583954), ('55.', 0.3068764805793762)] \n",
      "\n",
      "said, 2 top similar words: [('of', 0.2228178232908249), ('first', 0.14675559103488922)] \n",
      "\n",
      "jumping 2 top similar words: [('Feelings', 0.17723767459392548), ('quarter.', 0.170522540807724)] \n",
      "\n",
      "to 2 top similar words: [('improved', 0.355533629655838), ('conditions', 0.09242548048496246)] \n",
      "\n",
      "55 2 top similar words: [('first', 0.15393444895744324), ('of', 0.13402722775936127)] \n",
      "\n",
      "from 2 top similar words: [('Feelings', 0.3339291214942932), ('quarter,', 0.29816722869873047)] \n",
      "\n",
      "40 2 top similar words: [('current', 0.22005407512187958), ('improved', 0.17005106806755066)] \n",
      "\n",
      "in 2 top similar words: [('Board', 0.24079911410808563), ('Assessment', 0.20133964717388153)] \n",
      "\n",
      "the 2 top similar words: [('substantially', 0.13953262567520142), ('substantially,', 0.12233975529670715)] \n",
      "\n",
      "first 2 top similar words: [('55', 0.15393443405628204), ('conditions', 0.14766255021095276)] \n",
      "\n",
      "quarter. 2 top similar words: [('current', 0.19821564853191376), ('jumping', 0.170522540807724)] \n",
      "\n",
      "Feelings 2 top similar words: [('55.', 0.43139803409576416), ('from', 0.3339291214942932)] \n",
      "\n",
      "about 2 top similar words: [('substantially,', 0.1635913997888565), ('Conference', 0.1567019820213318)] \n",
      "\n",
      "current 2 top similar words: [('40', 0.22005410492420197), ('quarter.', 0.19821569323539734)] \n",
      "\n",
      "business 2 top similar words: [('Conference', 0.30111441016197205), ('conditions', 0.14554187655448914)] \n",
      "\n",
      "conditions 2 top similar words: [('quarter.', 0.15218167006969452), ('first', 0.14766255021095276)] \n",
      "\n",
      "improved 2 top similar words: [('to', 0.3555335998535156), ('Board', 0.3534047305583954)] \n",
      "\n",
      "substantially 2 top similar words: [('improved', 0.2321624904870987), ('current', 0.15135115385055542)] \n",
      "\n",
      "from 2 top similar words: [('Feelings', 0.3339291214942932), ('quarter,', 0.29816722869873047)] \n",
      "\n",
      "the 2 top similar words: [('substantially', 0.13953262567520142), ('substantially,', 0.12233975529670715)] \n",
      "\n",
      "first 2 top similar words: [('55', 0.15393443405628204), ('conditions', 0.14766255021095276)] \n",
      "\n",
      "quarter, 2 top similar words: [('Feelings', 0.3012029230594635), ('from', 0.2981671988964081)] \n",
      "\n",
      "jumping 2 top similar words: [('Feelings', 0.17723767459392548), ('quarter.', 0.170522540807724)] \n",
      "\n",
      "from 2 top similar words: [('Feelings', 0.3339291214942932), ('quarter,', 0.29816722869873047)] \n",
      "\n",
      "40 2 top similar words: [('current', 0.22005407512187958), ('improved', 0.17005106806755066)] \n",
      "\n",
      "to 2 top similar words: [('improved', 0.355533629655838), ('conditions', 0.09242548048496246)] \n",
      "\n",
      "55. 2 top similar words: [('Feelings', 0.43139803409576416), ('Board', 0.3068764805793762)] \n",
      "\n"
     ]
    },
    {
     "name": "stderr",
     "output_type": "stream",
     "text": [
      "/usr/local/lib/python3.5/dist-packages/ipykernel_launcher.py:4: DeprecationWarning: Call to deprecated `most_similar` (Method will be removed in 4.0.0, use self.wv.most_similar() instead).\n",
      "  after removing the cwd from sys.path.\n"
     ]
    }
   ],
   "source": [
    "for i in range(len(data)):\n",
    "    for j in range(len(data[i])):\n",
    "        word = data[i][j]\n",
    "        print(word, '2 top similar words:', model.most_similar(word, topn= 2), '\\n')"
   ]
  },
  {
   "cell_type": "code",
   "execution_count": null,
   "metadata": {},
   "outputs": [],
   "source": []
  }
 ],
 "metadata": {
  "kernelspec": {
   "display_name": "Python 3",
   "language": "python",
   "name": "python3"
  },
  "language_info": {
   "codemirror_mode": {
    "name": "ipython",
    "version": 3
   },
   "file_extension": ".py",
   "mimetype": "text/x-python",
   "name": "python",
   "nbconvert_exporter": "python",
   "pygments_lexer": "ipython3",
   "version": "3.7.0"
  }
 },
 "nbformat": 4,
 "nbformat_minor": 2
}
